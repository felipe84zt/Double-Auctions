{
 "cells": [
  {
   "cell_type": "code",
   "execution_count": 11,
   "metadata": {},
   "outputs": [],
   "source": [
    "import random\n",
    "import numpy as np"
   ]
  },
  {
   "cell_type": "code",
   "execution_count": 37,
   "metadata": {},
   "outputs": [],
   "source": [
    "class valores:\n",
    "    \n",
    "    def __init__(self,inf,sup,quantidade,tipo,distribuicao,media,dp):\n",
    "        \n",
    "        self.inf=inf\n",
    "        self.sup=sup\n",
    "        self.tipo=tipo\n",
    "    \n",
    "        if distribuicao=='normal':\n",
    "            p_lim=sorted([int(np.random.normal(media,dp)) for i in range(quantidade)])\n",
    "            p_lim=[j if j>inf else inf+1 for j in p_lim]\n",
    "            p_lim=[k if k<sup else sup-1 for k in p_lim]\n",
    "        else:\n",
    "            p_lim=sorted([random.randint(inf,sup) for i in range(quantidade)])\n",
    "\n",
    "        if tipo=='comprador':\n",
    "            p_lim=sorted(p_lim,reverse=True)\n",
    "\n",
    "        self.p_limites=p_lim"
   ]
  },
  {
   "cell_type": "code",
   "execution_count": null,
   "metadata": {},
   "outputs": [],
   "source": []
  },
  {
   "cell_type": "code",
   "execution_count": null,
   "metadata": {},
   "outputs": [],
   "source": []
  },
  {
   "cell_type": "code",
   "execution_count": null,
   "metadata": {},
   "outputs": [],
   "source": []
  },
  {
   "cell_type": "code",
   "execution_count": null,
   "metadata": {},
   "outputs": [],
   "source": []
  }
 ],
 "metadata": {
  "kernelspec": {
   "display_name": "Python 3",
   "language": "python",
   "name": "python3"
  },
  "language_info": {
   "codemirror_mode": {
    "name": "ipython",
    "version": 3
   },
   "file_extension": ".py",
   "mimetype": "text/x-python",
   "name": "python",
   "nbconvert_exporter": "python",
   "pygments_lexer": "ipython3",
   "version": "3.7.6"
  }
 },
 "nbformat": 4,
 "nbformat_minor": 4
}
