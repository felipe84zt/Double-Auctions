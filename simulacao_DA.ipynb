{
 "cells": [
  {
   "cell_type": "code",
   "execution_count": 1,
   "metadata": {},
   "outputs": [
    {
     "data": {
      "text/html": [
       "<style>.container { width:100% !important; }</style>"
      ],
      "text/plain": [
       "<IPython.core.display.HTML object>"
      ]
     },
     "metadata": {},
     "output_type": "display_data"
    },
    {
     "data": {
      "text/html": [
       "<style>.container { width:100% !important; }</style>"
      ],
      "text/plain": [
       "<IPython.core.display.HTML object>"
      ]
     },
     "metadata": {},
     "output_type": "display_data"
    },
    {
     "data": {
      "text/html": [
       "<style>.container { width:100% !important; }</style>"
      ],
      "text/plain": [
       "<IPython.core.display.HTML object>"
      ]
     },
     "metadata": {},
     "output_type": "display_data"
    },
    {
     "data": {
      "text/html": [
       "<style>.container { width:100% !important; }</style>"
      ],
      "text/plain": [
       "<IPython.core.display.HTML object>"
      ]
     },
     "metadata": {},
     "output_type": "display_data"
    },
    {
     "data": {
      "text/html": [
       "<style>.container { width:100% !important; }</style>"
      ],
      "text/plain": [
       "<IPython.core.display.HTML object>"
      ]
     },
     "metadata": {},
     "output_type": "display_data"
    }
   ],
   "source": [
    "import pandas as pd\n",
    "import numpy as np\n",
    "import random\n",
    "import altair as alt\n",
    "alt.renderers.enable('notebook')\n",
    "import matplotlib.pyplot as plt\n",
    "\n",
    "from scipy import optimize\n",
    "from scipy.stats import expon\n",
    "\n",
    "import math\n",
    "\n",
    "import time\n",
    "from IPython.core.display import display, HTML\n",
    "display(HTML(\"<style>.container { width:100% !important; }</style>\"))\n",
    "\n",
    "import seaborn as sns\n",
    "\n",
    "import p_limites\n",
    "import agentes\n",
    "import market_v2\n",
    "import esb"
   ]
  },
  {
   "cell_type": "markdown",
   "metadata": {},
   "source": [
    "### Parâmetros da função market\n",
    "\n",
    "- jogadores: quantidade de jogadores, distribuidos igualmente entre vendedores e compradores\n",
    "- co: quantidade de preços limites que cada agente tem disponível\n",
    "- per: quantidade de subperíodos\n",
    "- paper_values: utiliza os preços limites do artigo $\\textit{Price Formation in Double Auctions}$. Neste caso, jogadores= 8 e co=3.\n",
    "- memo: memória de cada agente dos últimos $n$ negócios realizados.\n",
    "- FP_DP_TD: algoritmo será utilizado no comportamento dos agentes.\n",
    "    - = 0: Fictitious Play\n",
    "    - = 1: Programação Dinâmica\n",
    "    - = 3: Q-Learning\n",
    "\n",
    "- inf: menor valor dos preços limites. \n",
    "- sup: maior valor dos preços limites.\n",
    "- acoes: quantidade de ações permitidas no intervalo \\[inf,sup\\]"
   ]
  },
  {
   "cell_type": "code",
   "execution_count": 3,
   "metadata": {},
   "outputs": [
    {
     "name": "stdout",
     "output_type": "stream",
     "text": [
      "Valores Limites\n",
      "\n",
      "vazio   0 : [42, 45, 49, 58, 61]\n",
      "vendedor   1 : [46, 50, 52, 53, 56]\n",
      "vendedor   2 : [45, 49, 51, 56, 58]\n",
      "vendedor   3 : [49, 53, 57, 57, 64]\n",
      "vendedor   4 : [45, 50, 52, 54, 58]\n",
      "vendedor   5 : [44, 46, 47, 50, 53]\n",
      "comprador   6 : [54, 53, 50, 47, 44]\n",
      "comprador   7 : [52, 51, 51, 50, 44]\n",
      "comprador   8 : [61, 54, 50, 48, 47]\n",
      "comprador   9 : [56, 49, 45, 43, 40]\n",
      "comprador   10 : [58, 57, 52, 52, 45]\n"
     ]
    }
   ],
   "source": [
    "jogadores=10\n",
    "quantidade=5\n",
    "per=10\n",
    "memo=20\n",
    "agente='Q'\n",
    "inf=0\n",
    "sup=100\n",
    "acoes=100\n",
    "distribuicao='normal'\n",
    "media=50\n",
    "dp=5\n",
    "alfa=0.95\n",
    "gamma=0.9\n",
    "\n",
    "lista_agentes=agentes.define_agentes(jogadores,quantidade,per,memo,agente,inf,sup,acoes,distribuicao,media,dp,alfa,gamma)"
   ]
  },
  {
   "cell_type": "code",
   "execution_count": 4,
   "metadata": {},
   "outputs": [],
   "source": [
    "mercado_FP=market_v2.market(lista_agentes[0],per)"
   ]
  },
  {
   "cell_type": "code",
   "execution_count": 5,
   "metadata": {},
   "outputs": [
    {
     "name": "stdout",
     "output_type": "stream",
     "text": [
      "12.50460934638977\n"
     ]
    },
    {
     "data": {
      "image/png": "[encoded data removed]",
      "text/plain": [
       "<Figure size 432x288 with 2 Axes>"
      ]
     },
     "metadata": {
      "needs_background": "light"
     },
     "output_type": "display_data"
    },
    {
     "data": {
      "text/plain": [
       "<Figure size 1440x1440 with 0 Axes>"
      ]
     },
     "metadata": {},
     "output_type": "display_data"
    },
    {
     "name": "stdout",
     "output_type": "stream",
     "text": [
      "(0, 51.0)\n"
     ]
    }
   ],
   "source": [
    "resultados_periodos=esb.iteracoes(mercado_FP,it=20)\n",
    "preco_e=esb.plot_sim(mercado_FP)\n",
    "print(preco_e)"
   ]
  },
  {
   "cell_type": "code",
   "execution_count": null,
   "metadata": {},
   "outputs": [],
   "source": []
  },
  {
   "cell_type": "code",
   "execution_count": 6,
   "metadata": {},
   "outputs": [
    {
     "name": "stdout",
     "output_type": "stream",
     "text": [
      "306.629417181015\n"
     ]
    },
    {
     "data": {
      "image/png": "[encoded data removed]",
      "text/plain": [
       "<Figure size 432x288 with 2 Axes>"
      ]
     },
     "metadata": {
      "needs_background": "light"
     },
     "output_type": "display_data"
    },
    {
     "data": {
      "text/plain": [
       "<Figure size 1440x1440 with 0 Axes>"
      ]
     },
     "metadata": {},
     "output_type": "display_data"
    }
   ],
   "source": [
    "mercado_DP=market_v2.market(lista_agentes[1],per)\n",
    "resultados_periodos=esb.iteracoes(mercado_DP,it=20)\n",
    "preco_e=esb.plot_sim(mercado_DP)"
   ]
  },
  {
   "cell_type": "code",
   "execution_count": null,
   "metadata": {},
   "outputs": [],
   "source": []
  },
  {
   "cell_type": "code",
   "execution_count": 7,
   "metadata": {},
   "outputs": [
    {
     "name": "stdout",
     "output_type": "stream",
     "text": [
      "5.111301898956299\n"
     ]
    },
    {
     "data": {
      "image/png": "[encoded data removed]",
      "text/plain": [
       "<Figure size 432x288 with 2 Axes>"
      ]
     },
     "metadata": {
      "needs_background": "light"
     },
     "output_type": "display_data"
    },
    {
     "data": {
      "text/plain": [
       "<Figure size 1440x1440 with 0 Axes>"
      ]
     },
     "metadata": {},
     "output_type": "display_data"
    }
   ],
   "source": [
    "mercado_Q=market_v2.market(lista_agentes[2],per)\n",
    "resultados_periodos=esb.iteracoes(mercado_Q,it=50)\n",
    "preco_e=esb.plot_sim(mercado_Q)"
   ]
  },
  {
   "cell_type": "code",
   "execution_count": null,
   "metadata": {},
   "outputs": [],
   "source": []
  },
  {
   "cell_type": "code",
   "execution_count": 8,
   "metadata": {},
   "outputs": [
    {
     "name": "stdout",
     "output_type": "stream",
     "text": [
      "7.268560409545898\n"
     ]
    },
    {
     "data": {
      "image/png": "[encoded data removed]",
      "text/plain": [
       "<Figure size 432x288 with 2 Axes>"
      ]
     },
     "metadata": {
      "needs_background": "light"
     },
     "output_type": "display_data"
    },
    {
     "data": {
      "text/plain": [
       "<Figure size 1440x1440 with 0 Axes>"
      ]
     },
     "metadata": {},
     "output_type": "display_data"
    }
   ],
   "source": [
    "mercado_DQ=market_v2.market(lista_agentes[3],per)\n",
    "resultados_periodos=esb.iteracoes(mercado_DQ,it=50)\n",
    "preco_e=esb.plot_sim(mercado_DQ)"
   ]
  },
  {
   "cell_type": "code",
   "execution_count": null,
   "metadata": {},
   "outputs": [],
   "source": []
  },
  {
   "cell_type": "code",
   "execution_count": null,
   "metadata": {},
   "outputs": [],
   "source": []
  }
 ],
 "metadata": {
  "@webio": {
   "lastCommId": null,
   "lastKernelId": null
  },
  "kernelspec": {
   "display_name": "Python 3",
   "language": "python",
   "name": "python3"
  },
  "language_info": {
   "codemirror_mode": {
    "name": "ipython",
    "version": 3
   },
   "file_extension": ".py",
   "mimetype": "text/x-python",
   "name": "python",
   "nbconvert_exporter": "python",
   "pygments_lexer": "ipython3",
   "version": "3.7.6"
  }
 },
 "nbformat": 4,
 "nbformat_minor": 4
}
